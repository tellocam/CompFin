{
 "cells": [
  {
   "cell_type": "code",
   "execution_count": 5,
   "metadata": {},
   "outputs": [],
   "source": [
    "import matplotlib.pyplot as plt\n",
    "import numpy as np\n",
    "from scipy.stats import norm\n",
    "from scipy.special import binom"
   ]
  },
  {
   "cell_type": "code",
   "execution_count": 24,
   "metadata": {},
   "outputs": [],
   "source": [
    "n = 50\n",
    "S0 = 50\n",
    "r = 0.1\n",
    "K = 50\n",
    "sigma = 0.4\n",
    "T = 0.411\n",
    "t_arr = np.linspace(0,T,n)\n",
    "dt = T/(n+1)"
   ]
  },
  {
   "cell_type": "code",
   "execution_count": 25,
   "metadata": {},
   "outputs": [],
   "source": [
    "# calc parameters\n",
    "beta = 0.5*(np.exp(-r*dt) + np.exp((r+sigma**2)*dt))\n",
    "u = beta + np.sqrt(beta**2-1)\n",
    "d = 1/u\n",
    "p = (np.exp(r*dt)-d)/(u-d)"
   ]
  },
  {
   "cell_type": "code",
   "execution_count": 26,
   "metadata": {},
   "outputs": [],
   "source": [
    "# 1. Schritt\n",
    "S = np.zeros((n,n))\n",
    "for i in range(0,n):\n",
    "    S[i,-1] = S0*u**(i-1)*d**(n-i+1)"
   ]
  },
  {
   "cell_type": "code",
   "execution_count": 27,
   "metadata": {},
   "outputs": [],
   "source": [
    "# 2. Schritt\n",
    "V = np.zeros((n,n))\n",
    "for i in range(n):\n",
    "    V[i,-1] = np.max(K-S[i,-1],0)"
   ]
  },
  {
   "cell_type": "code",
   "execution_count": 28,
   "metadata": {},
   "outputs": [
    {
     "data": {
      "text/plain": [
       "array([[   0.        ,    4.79829948,    6.36587288, ...,   41.63033675,\n",
       "          41.96321625,   42.28579725],\n",
       "       [   0.        ,    0.        ,    3.25234121, ...,   41.01254969,\n",
       "          41.36723912,   41.71086008],\n",
       "       [   0.        ,    0.        ,    0.        , ...,   40.34871915,\n",
       "          40.72684399,   41.09307302],\n",
       "       ...,\n",
       "       [   0.        ,    0.        ,    0.        , ...,    0.        ,\n",
       "        -184.55281397, -176.23346781],\n",
       "       [   0.        ,    0.        ,    0.        , ...,    0.        ,\n",
       "           0.        , -193.09457887],\n",
       "       [   0.        ,    0.        ,    0.        , ...,    0.        ,\n",
       "           0.        , -211.21234337]])"
      ]
     },
     "execution_count": 28,
     "metadata": {},
     "output_type": "execute_result"
    }
   ],
   "source": [
    "e = np.exp(-r*dt)\n",
    "for i in range(n-2,-1,-1):\n",
    "    for j in range(0,i):\n",
    "        V[j,i] = e*(p*V[j+1,i+1] + (1-p)*V[j, i+1])\n",
    "V        "
   ]
  },
  {
   "cell_type": "code",
   "execution_count": 29,
   "metadata": {},
   "outputs": [
    {
     "name": "stdout",
     "output_type": "stream",
     "text": [
      "V(50,0) = 0.0\n",
      "\n"
     ]
    }
   ],
   "source": [
    "print(f'V({S0},0) = {V[0,0]}\\n')"
   ]
  },
  {
   "cell_type": "code",
   "execution_count": null,
   "metadata": {},
   "outputs": [],
   "source": []
  }
 ],
 "metadata": {
  "kernelspec": {
   "display_name": "Python 3",
   "language": "python",
   "name": "python3"
  },
  "language_info": {
   "codemirror_mode": {
    "name": "ipython",
    "version": 3
   },
   "file_extension": ".py",
   "mimetype": "text/x-python",
   "name": "python",
   "nbconvert_exporter": "python",
   "pygments_lexer": "ipython3",
   "version": "3.8.10"
  },
  "orig_nbformat": 4,
  "vscode": {
   "interpreter": {
    "hash": "916dbcbb3f70747c44a77c7bcd40155683ae19c65e1c03b4aa3499c5328201f1"
   }
  }
 },
 "nbformat": 4,
 "nbformat_minor": 2
}
