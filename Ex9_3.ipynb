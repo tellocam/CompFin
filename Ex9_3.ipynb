{
 "cells": [
  {
   "cell_type": "code",
   "execution_count": null,
   "metadata": {},
   "outputs": [],
   "source": [
    "#!/usr/bin/env python3\n",
    "# -*- coding: utf-8 -*-\n",
    "\"\"\"\n",
    "Created on Sun Jan  8 13:14:15 2023\n",
    "\n",
    "@author: alex\n",
    "\"\"\"\n",
    "import numpy as np\n",
    "from numpy.random import normal\n",
    "import matplotlib.pyplot as plt\n",
    "\n",
    "def stoch_int(f,T,dt = 'stepsize' ,N = 'Number of MC samples'):\n",
    "    n = int(np.ceil(T/dt))\n",
    "    t = np.linspace(0,T,n)\n",
    "    integral = np.zeros(N) \n",
    "    for j in range(N):\n",
    "        for i in range(n-1):\n",
    "            integral[j] += f((t[i+1]+t[i])/2)*normal(0,dt) \n",
    "    \n",
    "    return 1/N*np.sum(integral)   \n",
    "    \n",
    "\n",
    "I1 = stoch_int(lambda x: np.cos(x),2,0.1,1000)\n",
    "print(f' Das Integral für f = cos(t) und T = 2 : {I1}')       \n",
    "\n",
    "I2 = stoch_int(lambda x: np.exp(x),2,0.1,1000)\n",
    "print(f' Das Integral für f = exp(t) und T = 2 : {I2}')       \n",
    "\n",
    "\n",
    "\n",
    "\n"
   ]
  }
 ],
 "metadata": {
  "kernelspec": {
   "display_name": "venv",
   "language": "python",
   "name": "python3"
  },
  "language_info": {
   "name": "python",
   "version": "3.8.10 (default, Jun 22 2022, 20:18:18) \n[GCC 9.4.0]"
  },
  "orig_nbformat": 4,
  "vscode": {
   "interpreter": {
    "hash": "b13762830d5b1ad5d09e9c582d942228bf79b025683bb2ab50f4aec815ef5fab"
   }
  }
 },
 "nbformat": 4,
 "nbformat_minor": 2
}
