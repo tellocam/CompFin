{
 "cells": [
  {
   "attachments": {},
   "cell_type": "markdown",
   "metadata": {},
   "source": [
    "## exercise 8.4, new try"
   ]
  },
  {
   "cell_type": "code",
   "execution_count": 32,
   "metadata": {},
   "outputs": [],
   "source": [
    "import matplotlib.pyplot as plt\n",
    "import numpy as np\n",
    "from scipy.stats import norm"
   ]
  },
  {
   "cell_type": "code",
   "execution_count": 33,
   "metadata": {},
   "outputs": [],
   "source": [
    "n = 5\n",
    "S0 = 50\n",
    "r = 0.1\n",
    "K = 50\n",
    "sigma = 0.4\n",
    "T = 0.411\n",
    "t_arr = np.linspace(0,T,n)\n",
    "dt = t_arr[1] - t_arr[0]\n"
   ]
  },
  {
   "cell_type": "code",
   "execution_count": 34,
   "metadata": {},
   "outputs": [],
   "source": [
    "# setup variables\n",
    "u = np.exp(sigma*np.sqrt(dt))\n",
    "d = np.exp(-sigma*np.sqrt(dt))\n",
    "p = (np.exp(r*dt)-d)/u-d"
   ]
  },
  {
   "cell_type": "code",
   "execution_count": 35,
   "metadata": {},
   "outputs": [
    {
     "data": {
      "text/plain": [
       "array([[50.        , 43.98305482, 38.69018223, 34.03424812, 29.93860402],\n",
       "       [ 0.        , 56.84007194, 50.        , 43.98305482, 38.69018223],\n",
       "       [ 0.        ,  0.        , 64.61587556, 56.84007194, 50.        ],\n",
       "       [ 0.        ,  0.        ,  0.        , 73.4554203 , 64.61587556],\n",
       "       [ 0.        ,  0.        ,  0.        ,  0.        , 83.50422748]])"
      ]
     },
     "execution_count": 35,
     "metadata": {},
     "output_type": "execute_result"
    }
   ],
   "source": [
    "# init binomial tree\n",
    "S = np.zeros((n,n))\n",
    "for i in range(0,n):\n",
    "    for j in range(0,i+1):\n",
    "        S[j, i] = u**j * d**(i-j) * S0\n",
    "\n",
    "S"
   ]
  },
  {
   "cell_type": "code",
   "execution_count": 37,
   "metadata": {},
   "outputs": [],
   "source": [
    "V = np.zeros((n,n))\n",
    "V[:, -1] = S[:,-1]-K\n",
    "V[V<0] = 0\n",
    "\n",
    "for i in range(n-2, -1, -1):\n",
    "    for j in range(i, -1, -1):\n",
    "        V[j,i] = np.exp(-r*dt)*(p*V[j+1,i+1]+(1-p)*V[j,i+1])"
   ]
  },
  {
   "cell_type": "code",
   "execution_count": null,
   "metadata": {},
   "outputs": [
    {
     "data": {
      "text/plain": [
       "-33.28426320925403"
      ]
     },
     "execution_count": 31,
     "metadata": {},
     "output_type": "execute_result"
    }
   ],
   "source": [
    "V[0,0]"
   ]
  },
  {
   "cell_type": "code",
   "execution_count": null,
   "metadata": {},
   "outputs": [],
   "source": []
  }
 ],
 "metadata": {
  "kernelspec": {
   "display_name": "Python 3",
   "language": "python",
   "name": "python3"
  },
  "language_info": {
   "codemirror_mode": {
    "name": "ipython",
    "version": 3
   },
   "file_extension": ".py",
   "mimetype": "text/x-python",
   "name": "python",
   "nbconvert_exporter": "python",
   "pygments_lexer": "ipython3",
   "version": "3.8.10 (default, Jun 22 2022, 20:18:18) \n[GCC 9.4.0]"
  },
  "orig_nbformat": 4,
  "vscode": {
   "interpreter": {
    "hash": "916dbcbb3f70747c44a77c7bcd40155683ae19c65e1c03b4aa3499c5328201f1"
   }
  }
 },
 "nbformat": 4,
 "nbformat_minor": 2
}
