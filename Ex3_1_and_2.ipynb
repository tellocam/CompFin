{
 "cells": [
  {
   "cell_type": "code",
   "execution_count": null,
   "metadata": {},
   "outputs": [],
   "source": [
    "import numpy as np\n",
    "import matplotlib.pyplot as plt\n",
    "import random\n",
    "import pandas as pd"
   ]
  },
  {
   "cell_type": "code",
   "execution_count": null,
   "metadata": {},
   "outputs": [],
   "source": [
    "nasdaq = pd.read_csv('/home/tellocam/CSE/CompFin/HistoricalPrices_NASDAQ.csv',sep=',;')\n",
    "\n",
    "nasdaq = nasdaq.loc[::-1] #reverse order\n",
    "nasdaq = nasdaq.reset_index(drop = True)\n",
    "close = nasdaq['Close']\n",
    "\n",
    "close_X = np.log(close/close.iloc[0])\n",
    "n = len(close)+1\n",
    "T = len(close)\n",
    "dt = T/n\n",
    "m = len(close)\n",
    "print(close_X)"
   ]
  },
  {
   "cell_type": "markdown",
   "metadata": {},
   "source": [
    "\\begin{align}\n",
    "    \\hat{\\mu}\n",
    "\\end{align}"
   ]
  },
  {
   "cell_type": "code",
   "execution_count": null,
   "metadata": {},
   "outputs": [],
   "source": [
    "mu_estimate = (close_X.iloc[-1] - close_X.iloc[0]) / (m*dt) # estimate for drift\n",
    "\n",
    "x0 = close_X.iloc[0:m-1]\n",
    "x1 = close_X.iloc[1:m].reset_index(drop = True) # dropping index so it starts with 1 again\n",
    "dx = x1 - x0\n",
    "\n",
    "sigma_estimate = 1/m * sum(((dx-mu_estimate*dt)**2)/dt) # estimate for squared volatility\n",
    "\n",
    "print(sigma_estimate)\n",
    "print(mu_estimate)\n",
    "print(dx)"
   ]
  },
  {
   "cell_type": "code",
   "execution_count": null,
   "metadata": {},
   "outputs": [],
   "source": [
    "def W_t(T,n):\n",
    "    dt = T/n\n",
    "    x = np.zeros(n)\n",
    "    for i in range(n):\n",
    "        x[i] = x[i-1] + np.random.normal(0,dt)\n",
    "    return x\n",
    "\n",
    "\n",
    "s0 = close.iloc[0]\n",
    "s_t = np.zeros(n)\n",
    "t = np.linspace(0,T,n)\n",
    "s_t = s0*np.exp(mu_estimate*t + np.sqrt(sigma_estimate)*W_t(T,n))\n",
    "\n",
    "plt.figure(0)\n",
    "plt.plot(t,s_t)\n",
    "plt.ylabel(\"S_t\")\n",
    "\n",
    "plt.figure(1)\n",
    "plt.plot(close)\n",
    "plt.ylabel(\"close\")W"
   ]
  }
 ],
 "metadata": {
  "kernelspec": {
   "display_name": "Python 3.8.10 ('venv': venv)",
   "language": "python",
   "name": "python3"
  },
  "language_info": {
   "codemirror_mode": {
    "name": "ipython",
    "version": 3
   },
   "file_extension": ".py",
   "mimetype": "text/x-python",
   "name": "python",
   "nbconvert_exporter": "python",
   "pygments_lexer": "ipython3",
   "version": "3.8.10"
  },
  "orig_nbformat": 4,
  "vscode": {
   "interpreter": {
    "hash": "b13762830d5b1ad5d09e9c582d942228bf79b025683bb2ab50f4aec815ef5fab"
   }
  }
 },
 "nbformat": 4,
 "nbformat_minor": 2
}
