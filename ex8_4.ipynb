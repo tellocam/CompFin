{
 "cells": [
  {
   "cell_type": "code",
   "execution_count": 185,
   "metadata": {},
   "outputs": [],
   "source": [
    "import numpy as np\n",
    "import matplotlib.pyplot as plt\n",
    "from scipy.stats import norm"
   ]
  },
  {
   "cell_type": "code",
   "execution_count": 186,
   "metadata": {},
   "outputs": [],
   "source": [
    "n = 50\n",
    "S0 = 50\n",
    "r = 0.1\n",
    "K = 50\n",
    "sigma = 0.4\n",
    "T = 0.411\n",
    "t_arr = np.linspace(0,T,n)"
   ]
  },
  {
   "attachments": {},
   "cell_type": "markdown",
   "metadata": {},
   "source": [
    "### black scholes"
   ]
  },
  {
   "cell_type": "code",
   "execution_count": 187,
   "metadata": {},
   "outputs": [],
   "source": [
    "def d1(S, t):\n",
    "    return (np.log(S/K) + (r+sigma**2/2)*(T-t)) / (sigma * np.sqrt(T-t))\n",
    "\n",
    "def d2(S, t):\n",
    "    return (np.log(S/K) + (r-sigma**2/2)*(T-t)) / (sigma * np.sqrt(T-t))\n",
    "\n",
    "def phi(x):\n",
    "    return norm(loc=0, scale=1).cdf(x)\n",
    "\n",
    "def V_bs(S, t):\n",
    "    return S*phi(d1(S, t)) - K*np.exp(-r*(T-t))*phi(d2(S, t))"
   ]
  },
  {
   "cell_type": "code",
   "execution_count": 188,
   "metadata": {},
   "outputs": [
    {
     "name": "stderr",
     "output_type": "stream",
     "text": [
      "/tmp/ipykernel_1474/1465466229.py:2: RuntimeWarning: invalid value encountered in true_divide\n",
      "  return (np.log(S/K) + (r+sigma**2/2)*(T-t)) / (sigma * np.sqrt(T-t))\n",
      "/tmp/ipykernel_1474/1465466229.py:5: RuntimeWarning: invalid value encountered in true_divide\n",
      "  return (np.log(S/K) + (r-sigma**2/2)*(T-t)) / (sigma * np.sqrt(T-t))\n"
     ]
    },
    {
     "data": {
      "text/plain": [
       "6.0688669438742835"
      ]
     },
     "execution_count": 188,
     "metadata": {},
     "output_type": "execute_result"
    },
    {
     "data": {
      "image/png": "[encoded data removed]",
      "text/plain": [
       "<Figure size 432x288 with 1 Axes>"
      ]
     },
     "metadata": {
      "needs_background": "light"
     },
     "output_type": "display_data"
    }
   ],
   "source": [
    "plt.plot(V_bs(S0, t_arr))\n",
    "V_bs(S0, 0)\n",
    "\n",
    "# S_arr = np.linspace(S0, 150, 101)\n",
    "# plt.plot(V_bs(S_arr, T))"
   ]
  },
  {
   "attachments": {},
   "cell_type": "markdown",
   "metadata": {},
   "source": [
    "### binomial method"
   ]
  },
  {
   "cell_type": "code",
   "execution_count": 189,
   "metadata": {},
   "outputs": [
    {
     "name": "stdout",
     "output_type": "stream",
     "text": [
      "[[  50.           46.68770224   43.59483081 ...    1.99479063\n",
      "     1.86264382    1.7392512 ]\n",
      " [   0.           53.54729147   50.         ...    2.28787519\n",
      "     2.13631271    1.99479063]\n",
      " [   0.            0.           57.34624848 ...    2.62402118\n",
      "     2.45019039    2.28787519]\n",
      " ...\n",
      " [   0.            0.            0.         ... 1253.26435711\n",
      "  1170.24066264 1092.71695212]\n",
      " [   0.            0.            0.         ...    0.\n",
      "  1342.17823645 1253.26435711]\n",
      " [   0.            0.            0.         ...    0.\n",
      "     0.         1437.40018471]]\n"
     ]
    }
   ],
   "source": [
    "dt = t_arr[1]-t_arr[0]\n",
    "S = np.zeros((n,n))\n",
    "\n",
    "sx = 0.5 * (np.exp(-r*dt) + np.exp((r+sigma**2)*dt) + sigma*dt)\n",
    "ux = sx + np.sqrt(sx**2 - 1)\n",
    "dx = sx - np.sqrt(sx**2 - 1)\n",
    "px = (np.exp(r*dt)-dx)/(ux-dx)\n",
    "\n",
    "u = np.exp(sigma*np.sqrt(dt))\n",
    "d = np.exp(-sigma*np.sqrt(dt))\n",
    "\n",
    "p = (np.exp(r*dt)-d)/(u-d)\n",
    "\n",
    "# creation of binomial tree\n",
    "for i in range(0,n):\n",
    "    for j in range(0,i+1):\n",
    "        S[j,i] = ux**j * dx**(i-j) * S0\n",
    "\n",
    "print(S)"
   ]
  },
  {
   "cell_type": "code",
   "execution_count": 190,
   "metadata": {},
   "outputs": [],
   "source": [
    "# computation of final option price\n",
    "V = S[:,n-1] - K\n",
    "V = [0 if x < 0 else x for x in V]"
   ]
  },
  {
   "cell_type": "code",
   "execution_count": 191,
   "metadata": {},
   "outputs": [],
   "source": [
    "V_new = np.zeros((n,n))\n",
    "V_new[:, n-1] = V\n",
    "\n",
    "for i in range(n-2, -1, -1):\n",
    "    for j in range(i, -1, -1):\n",
    "        # print(i,j)\n",
    "        V_new[j, i] = np.exp(-r*dt)*(px*V_new[j+1, i+1] + (1-px)*V_new[j, i+1])"
   ]
  },
  {
   "cell_type": "code",
   "execution_count": 192,
   "metadata": {},
   "outputs": [
    {
     "data": {
      "text/plain": [
       "10.373930687698063"
      ]
     },
     "execution_count": 192,
     "metadata": {},
     "output_type": "execute_result"
    }
   ],
   "source": [
    "V_new[0,0]"
   ]
  },
  {
   "cell_type": "code",
   "execution_count": 193,
   "metadata": {},
   "outputs": [
    {
     "data": {
      "text/plain": [
       "[533.3882889117162,\n",
       " 539.2145038722997,\n",
       " 545.1653868376218,\n",
       " 551.2456077245272,\n",
       " 557.4601079722382,\n",
       " 563.814122850836,\n",
       " 570.3132061457817,\n",
       " 576.963257523914,\n",
       " 583.7705529317172,\n",
       " 590.741778429737,\n",
       " 597.8840679294093,\n",
       " 605.2050453722358,\n",
       " 612.712871978703,\n",
       " 620.4162992988572,\n",
       " 628.324728922224,\n",
       " 636.4482798573828,\n",
       " 644.7978647783368,\n",
       " 653.385276565743,\n",
       " 662.2232868592791,\n",
       " 671.3257587006558,\n",
       " 680.7077758086065,\n",
       " 690.3857916188098,\n",
       " 700.3778019836928,\n",
       " 710.7035464113541,\n",
       " 721.3847439944894,\n",
       " 732.4453718198487,\n",
       " 743.9119957578738,\n",
       " 755.8141662479608,\n",
       " 768.1848952281053,\n",
       " 781.0612350717627,\n",
       " 794.4849869198927,\n",
       " 808.5035750899618,\n",
       " 823.171137457451,\n",
       " 838.5499003764189,\n",
       " 854.7119339105946,\n",
       " 871.7414235852682,\n",
       " 889.7376563326287,\n",
       " 908.81901407844,\n",
       " 929.1284219268664,\n",
       " 950.8409519692393,\n",
       " 974.1747200565229,\n",
       " 999.4069950263486,\n",
       " 1026.8989147665793,\n",
       " 1057.1351585157108,\n",
       " 1090.7913007828795,\n",
       " 1128.8566696667704,\n",
       " 1172.8808641081819,\n",
       " 1225.5390689485048,\n",
       " 1292.220157645358,\n",
       " 1387.400184712948]"
      ]
     },
     "execution_count": 193,
     "metadata": {},
     "output_type": "execute_result"
    }
   ],
   "source": [
    "def V_calc(V_j,V_j1):\n",
    "    return np.exp(-r*dt)*(px*V_j1+(1-px)*V_j)\n",
    "\n",
    "for i in range(n-2, -1, -1):\n",
    "    for j in range(i, -1, -1):\n",
    "        # print(i,j)\n",
    "        V[j] = V_calc(V[j],V[j+1])\n",
    "V"
   ]
  },
  {
   "attachments": {},
   "cell_type": "markdown",
   "metadata": {},
   "source": [
    "### 1 step method"
   ]
  },
  {
   "cell_type": "code",
   "execution_count": 194,
   "metadata": {},
   "outputs": [],
   "source": [
    "s = 0.5 * (np.exp(-r*T) + np.exp((r+sigma**2)*T) + sigma*T)\n",
    "u_exact = s + np.sqrt(s**2 - 1)\n",
    "d_exact = s - np.sqrt(s**2 - 1)"
   ]
  },
  {
   "cell_type": "code",
   "execution_count": 195,
   "metadata": {},
   "outputs": [
    {
     "name": "stdout",
     "output_type": "stream",
     "text": [
      "14.92957804837723\n"
     ]
    }
   ],
   "source": [
    "Cu = (u_exact*S0 - K) if u_exact*S0 > K else 0\n",
    "Cd = (d_exact*S0 - K) if d_exact*S0 > K else 0\n",
    "\n",
    "C0 = np.exp(-r*T) * (p * Cu + (1-p) * Cd)\n",
    "print(C0)"
   ]
  }
 ],
 "metadata": {
  "kernelspec": {
   "display_name": "Python 3",
   "language": "python",
   "name": "python3"
  },
  "language_info": {
   "codemirror_mode": {
    "name": "ipython",
    "version": 3
   },
   "file_extension": ".py",
   "mimetype": "text/x-python",
   "name": "python",
   "nbconvert_exporter": "python",
   "pygments_lexer": "ipython3",
   "version": "3.8.10"
  },
  "orig_nbformat": 4,
  "vscode": {
   "interpreter": {
    "hash": "916dbcbb3f70747c44a77c7bcd40155683ae19c65e1c03b4aa3499c5328201f1"
   }
  }
 },
 "nbformat": 4,
 "nbformat_minor": 2
}
